{
 "cells": [
  {
   "cell_type": "code",
   "execution_count": 7,
   "metadata": {},
   "outputs": [
    {
     "data": {
      "text/html": [
       "<div>\n",
       "<style scoped>\n",
       "    .dataframe tbody tr th:only-of-type {\n",
       "        vertical-align: middle;\n",
       "    }\n",
       "\n",
       "    .dataframe tbody tr th {\n",
       "        vertical-align: top;\n",
       "    }\n",
       "\n",
       "    .dataframe thead th {\n",
       "        text-align: right;\n",
       "    }\n",
       "</style>\n",
       "<table border=\"1\" class=\"dataframe\">\n",
       "  <thead>\n",
       "    <tr style=\"text-align: right;\">\n",
       "      <th></th>\n",
       "      <th>review</th>\n",
       "      <th>sentiment</th>\n",
       "    </tr>\n",
       "  </thead>\n",
       "  <tbody>\n",
       "    <tr>\n",
       "      <th>0</th>\n",
       "      <td>One of the other reviewers has mentioned that ...</td>\n",
       "      <td>positive</td>\n",
       "    </tr>\n",
       "    <tr>\n",
       "      <th>1</th>\n",
       "      <td>A wonderful little production. &lt;br /&gt;&lt;br /&gt;The...</td>\n",
       "      <td>positive</td>\n",
       "    </tr>\n",
       "    <tr>\n",
       "      <th>2</th>\n",
       "      <td>I thought this was a wonderful way to spend ti...</td>\n",
       "      <td>positive</td>\n",
       "    </tr>\n",
       "    <tr>\n",
       "      <th>3</th>\n",
       "      <td>Basically there's a family where a little boy ...</td>\n",
       "      <td>negative</td>\n",
       "    </tr>\n",
       "    <tr>\n",
       "      <th>4</th>\n",
       "      <td>Petter Mattei's \"Love in the Time of Money\" is...</td>\n",
       "      <td>positive</td>\n",
       "    </tr>\n",
       "  </tbody>\n",
       "</table>\n",
       "</div>"
      ],
      "text/plain": [
       "                                              review sentiment\n",
       "0  One of the other reviewers has mentioned that ...  positive\n",
       "1  A wonderful little production. <br /><br />The...  positive\n",
       "2  I thought this was a wonderful way to spend ti...  positive\n",
       "3  Basically there's a family where a little boy ...  negative\n",
       "4  Petter Mattei's \"Love in the Time of Money\" is...  positive"
      ]
     },
     "execution_count": 7,
     "metadata": {},
     "output_type": "execute_result"
    }
   ],
   "source": [
    "import pandas as pd\n",
    "import numpy as np\n",
    "\n",
    "path ='/home/dragos/Projects/Longformer/data/IMDB.csv'\n",
    "data = pd.read_csv(path)\n",
    "data.head()"
   ]
  },
  {
   "cell_type": "code",
   "execution_count": 40,
   "metadata": {},
   "outputs": [
    {
     "name": "stdout",
     "output_type": "stream",
     "text": [
      "[\"One of the other reviewers has mentioned that after watching just 1 Oz episode you'll be hooked. They are right, as this is exactly what happened with me.<br /><br />The first thing that struck me about Oz was its brutality and unflinching scenes of violence, which set in right from the word GO. Trust me, this is not a show for the faint hearted or timid. This show pulls no punches with regards to drugs, sex or violence. Its is hardcore, in the classic use of the word.<br /><br />It is called OZ as that is the nickname given to the Oswald Maximum Security State Penitentary. It focuses mainly on Emerald City, an experimental section of the prison where all the cells have glass fronts and face inwards, so privacy is not high on the agenda. Em City is home to many..Aryans, Muslims, gangstas, Latinos, Christians, Italians, Irish and more....so scuffles, death stares, dodgy dealings and shady agreements are never far away.<br /><br />I would say the main appeal of the show is due to the fact that it goes where other shows wouldn't dare. Forget pretty pictures painted for mainstream audiences, forget charm, forget romance...OZ doesn't mess around. The first episode I ever saw struck me as so nasty it was surreal, I couldn't say I was ready for it, but as I watched more, I developed a taste for Oz, and got accustomed to the high levels of graphic violence. Not just violence, but injustice (crooked guards who'll be sold out for a nickel, inmates who'll kill on order and get away with it, well mannered, middle class inmates being turned into prison bitches due to their lack of street skills or prison experience) Watching Oz, you may become comfortable with what is uncomfortable viewing....thats if you can get in touch with your darker side.\", 'positive']\n"
     ]
    }
   ],
   "source": [
    "from torchdata.datapipes.iter import IterableWrapper, FileOpener\n",
    "from torch.utils.data import DataLoader, random_split\n",
    "\n",
    "datapipe = IterableWrapper([path])\n",
    "datapipe = FileOpener(datapipe, mode='b')   \n",
    "datapipe = datapipe.parse_csv(skip_lines=1)\n",
    "\n",
    "# Convert the datapipe to a list\n",
    "data_list = list(datapipe)\n",
    "\n",
    "# Split the data into train and test sets\n",
    "train_ratio = 0.8\n",
    "train_size = int(train_ratio * len(data_list))\n",
    "test_size = len(data_list) - train_size\n",
    "train_data, test_data = random_split(data_list, [train_size, test_size])\n",
    "\n",
    "# Convert the train_data and test_data back to datapipe if needed\n",
    "train_datapipe = IterableWrapper(train_data)\n",
    "test_datapipe = IterableWrapper(test_data)\n"
   ]
  },
  {
   "cell_type": "code",
   "execution_count": 42,
   "metadata": {},
   "outputs": [],
   "source": [
    "from torchtext.data.utils import get_tokenizer\n",
    "from torchtext.vocab import build_vocab_from_iterator \n",
    "\n",
    "tokenizer = get_tokenizer('basic_english')\n",
    "\n",
    "def yield_tokens(data_iter):\n",
    "    for text, _ in data_iter:\n",
    "        yield tokenizer(text)\n",
    "        \n",
    "def get_vocab(data_iter):\n",
    "    vocab = build_vocab_from_iterator(yield_tokens(data_iter),\n",
    "                                        specials=[\"<UNK>\", \"<PAD>\"],\n",
    "                                        max_tokens=20000)\n",
    "    vocab.set_default_index(vocab[\"<UNK>\"])\n",
    "    return vocab\n",
    "\n",
    "vocab = get_vocab(train_datapipe)"
   ]
  },
  {
   "cell_type": "code",
   "execution_count": 45,
   "metadata": {},
   "outputs": [
    {
     "name": "stdout",
     "output_type": "stream",
     "text": [
      "['<UNK>', '<PAD>', 'the', '.', ',', 'and', 'a', 'of', 'to', \"'\", 'is', 'it', 'in', 'i', 'this', 'that', 's', 'was', 'as', 'with', 'for', 'movie', 'but', 'film', ')', '(', 'you', 't', 'on', 'not', 'are', 'he', 'his', 'have', 'be', 'one', '!', 'at', 'all', 'they', 'by', 'an', 'who', 'from', 'so', 'like', 'there', 'or', 'just', 'her', 'about', 'if', 'out', 'has', '?', 'what', 'some', 'good', 'can', 'more', 'very', 'when', 'she', 'my', 'no', 'even', 'would', 'up', 'time', 'which', 'only', 'really', 'story', 'their', 'see', 'had', 'me', 'were', 'we', 'well', 'much', 'than', '-', 'been', 'bad', 'other', 'get', 'people', 'do', 'great', 'will', 'also', 'into', 'because', 'how', 'don', 'him', 'most', 'first', 'its']\n"
     ]
    }
   ],
   "source": [
    "print(vocab.get_itos()[:100])"
   ]
  },
  {
   "cell_type": "code",
   "execution_count": 59,
   "metadata": {},
   "outputs": [
    {
     "name": "stdout",
     "output_type": "stream",
     "text": [
      "Label size: torch.Size([8])\n",
      "Text size: torch.Size([468, 8])\n"
     ]
    },
    {
     "name": "stderr",
     "output_type": "stream",
     "text": [
      "/home/dragos/Projects/Longformer/lib/python3.10/site-packages/torch/utils/data/graph_settings.py:103: UserWarning: `shuffle=True` was set, but the datapipe does not contain a `Shuffler`. Adding one at the end. Be aware that the default buffer size might not be sufficient for your task.\n",
      "  warnings.warn(\n",
      "/tmp/ipykernel_22119/4106039430.py:18: UserWarning: To copy construct from a tensor, it is recommended to use sourceTensor.clone().detach() or sourceTensor.clone().detach().requires_grad_(True), rather than torch.tensor(sourceTensor).\n",
      "  processed_text = torch.tensor(text_transform(_text))\n"
     ]
    }
   ],
   "source": [
    "from torch.nn.utils.rnn import pad_sequence\n",
    "from torch.utils.data import DataLoader\n",
    "import torch\n",
    "\n",
    "\n",
    "def text_transform(text):\n",
    "    tokenized_text = torch.tensor([vocab[token] for token in tokenizer(text)])\n",
    "    return tokenized_text\n",
    "\n",
    "def label_transform(label):\n",
    "    return 1 if label == 'pos' else 0\n",
    "\n",
    "def collate_batch(batch): \n",
    "    label_list, text_list = [], [] \n",
    "    \n",
    "    for (_text, _label) in batch: \n",
    "        label_list.append(label_transform(_label)) \n",
    "        processed_text = torch.tensor(text_transform(_text)) \n",
    "        text_list.append(processed_text) \n",
    "\n",
    "    return torch.tensor(label_list), pad_sequence(text_list) \n",
    "\n",
    "train_dataloader = DataLoader(train_datapipe, batch_size=8, shuffle=True, collate_fn=collate_batch)\n",
    "test_dataloader = DataLoader(test_datapipe, batch_size=8, shuffle=True, collate_fn=collate_batch)\n",
    "\n",
    "i, (label, text) = next(enumerate(train_dataloader))\n",
    "print(f\"Label size: {label.size()}\\nText size: {text.size()}\")\n"
   ]
  }
 ],
 "metadata": {
  "kernelspec": {
   "display_name": "Python 3",
   "language": "python",
   "name": "python3"
  },
  "language_info": {
   "codemirror_mode": {
    "name": "ipython",
    "version": 3
   },
   "file_extension": ".py",
   "mimetype": "text/x-python",
   "name": "python",
   "nbconvert_exporter": "python",
   "pygments_lexer": "ipython3",
   "version": "3.10.12"
  }
 },
 "nbformat": 4,
 "nbformat_minor": 2
}
